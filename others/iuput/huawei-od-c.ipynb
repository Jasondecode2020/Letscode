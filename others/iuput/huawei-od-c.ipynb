{
 "cells": [
  {
   "cell_type": "code",
   "execution_count": 3,
   "metadata": {},
   "outputs": [],
   "source": [
    "# import\n",
    "from collections import Counter\n",
    "from math import gcd, floor, ceil\n",
    "from copy import copy, deepcopy\n",
    "from string import ascii_lowercase, ascii_uppercase\n",
    "from math import inf\n",
    "import string, bisect, heapq \n",
    "from itertools import permutations\n",
    "from math import factorial"
   ]
  },
  {
   "cell_type": "markdown",
   "metadata": {},
   "source": [
    "### 1 最长连续子序列 - 华为OD统一考试\n",
    "\n",
    "和为b"
   ]
  },
  {
   "cell_type": "code",
   "execution_count": 3,
   "metadata": {},
   "outputs": [],
   "source": [
    "a = [1, 2, 3, 4, 2, 2, 1, 1]\n",
    "b = 6"
   ]
  },
  {
   "cell_type": "code",
   "execution_count": 4,
   "metadata": {},
   "outputs": [
    {
     "name": "stdout",
     "output_type": "stream",
     "text": [
      "4\n"
     ]
    }
   ],
   "source": [
    "n = len(a)\n",
    "res = 0\n",
    "for i in range(n):\n",
    "  ans = 0\n",
    "  for j in range(i, n):\n",
    "    ans += a[j]\n",
    "    if ans == b:\n",
    "      res = max(res, j - i + 1)\n",
    "print(res)"
   ]
  },
  {
   "cell_type": "markdown",
   "metadata": {},
   "source": [
    "### 2 最长子字符串的长度 (一) - 华为OD统一考试（C卷）"
   ]
  },
  {
   "cell_type": "markdown",
   "metadata": {},
   "source": [
    "输入：alolobo\n",
    "\n",
    "输出：6\n",
    "\n",
    "输入：looxdolx\n",
    "\n",
    "输出：7\n",
    "\n",
    "输入：bcbcbc\n",
    "\n",
    "输出：6"
   ]
  },
  {
   "cell_type": "code",
   "execution_count": 8,
   "metadata": {},
   "outputs": [
    {
     "name": "stdout",
     "output_type": "stream",
     "text": [
      "6\n"
     ]
    }
   ],
   "source": [
    "a1 = 'bcbcbc' # 'alolobo', 'looxdolx'\n",
    "n = a1.count('o')\n",
    "if n % 2 == 0:\n",
    "  print(len(a1)) \n",
    "else:\n",
    "  print(len(a1)- 1)"
   ]
  },
  {
   "cell_type": "markdown",
   "metadata": {},
   "source": [
    "### 3 围棋的气 - 华为OD统一考试"
   ]
  },
  {
   "cell_type": "code",
   "execution_count": 10,
   "metadata": {},
   "outputs": [
    {
     "name": "stdout",
     "output_type": "stream",
     "text": [
      "8 7\n"
     ]
    }
   ],
   "source": [
    "directions = [(0, 1), (1, 0), (0, -1), (-1, 0)]\n",
    "\n",
    "def cal_qi_num(set_color, set_other_color):\n",
    "    s = set()\n",
    "    for r, c in set_color:\n",
    "        for dr, dc in directions:\n",
    "            row, col = r + dr, c + dc \n",
    "            if 0 <= row <= 18 and 0 <= col <= 18 and (row, col) not in set_color and (row, col) not in set_other_color:\n",
    "                s.add((row, col))\n",
    "    return len(s)\n",
    "\n",
    "\n",
    "# 输入数据\n",
    "lst_black = [0, 5, 8, 9, 9, 10]\n",
    "lst_white = [5, 0, 9, 9, 9, 8]\n",
    "\n",
    "# 每两个数字为一组坐标，构建所有黑棋/白棋对应的哈希集合\n",
    "set_black = set((lst_black[i], lst_black[i+1]) for i in range(0, len(lst_black), 2))\n",
    "set_white = set((lst_white[i], lst_white[i+1]) for i in range(0, len(lst_white), 2))\n",
    "# 分别调用cal_qi_num，计算黑棋和白棋的气的个数\n",
    "ans_black = cal_qi_num(set_black, set_white)\n",
    "ans_white = cal_qi_num(set_white, set_black)\n",
    "# 输出答案\n",
    "print(ans_black, ans_white)"
   ]
  },
  {
   "cell_type": "markdown",
   "metadata": {},
   "source": [
    "### 4 数的分解 - 华为OD统一考试"
   ]
  },
  {
   "cell_type": "code",
   "execution_count": null,
   "metadata": {},
   "outputs": [],
   "source": [
    "### "
   ]
  },
  {
   "cell_type": "markdown",
   "metadata": {},
   "source": [
    "### 5 攀登者1 - 华为OD统一考试"
   ]
  },
  {
   "cell_type": "markdown",
   "metadata": {},
   "source": [
    "输入：\n",
    "0,1,4,3,1,0,0,1,2,3,1,2,1,0\n",
    "\n",
    "输出：\n",
    "3\n",
    "\n",
    "说明：\n",
    "山峰所在索引分别为3，10，12"
   ]
  },
  {
   "cell_type": "code",
   "execution_count": 16,
   "metadata": {},
   "outputs": [
    {
     "name": "stdout",
     "output_type": "stream",
     "text": [
      "3\n"
     ]
    }
   ],
   "source": [
    "nums = [0,1,4,3,1,0,0,1,2,3,1,2,1,0]\n",
    "n = len(nums)\n",
    "res = 0\n",
    "for i in range(1, n - 1):\n",
    "  if nums[i - 1] < nums[i] and nums[i] > nums[i + 1]:\n",
    "    res += 1\n",
    "print(res)"
   ]
  },
  {
   "cell_type": "markdown",
   "metadata": {},
   "source": [
    "### 6 掌握的单词个数 - 华为OD统一考试"
   ]
  },
  {
   "cell_type": "code",
   "execution_count": 7,
   "metadata": {},
   "outputs": [],
   "source": [
    "n = 4\n",
    "arr = ['cat', 'bt', 'hat', 'tree']\n",
    "pattern = 'attach??'"
   ]
  },
  {
   "cell_type": "code",
   "execution_count": 8,
   "metadata": {},
   "outputs": [
    {
     "name": "stdout",
     "output_type": "stream",
     "text": [
      "3\n"
     ]
    }
   ],
   "source": [
    "def check(c, c_word):\n",
    "  need = c['?']\n",
    "  count = 0\n",
    "  for k in c_word:\n",
    "    if c_word[k] <= c[k]:\n",
    "      continue\n",
    "    else:\n",
    "      count += c_word[k] - c[k]\n",
    "  return count <= need \n",
    "\n",
    "c = Counter(pattern)\n",
    "res = 0\n",
    "for word in arr:\n",
    "  c_word = Counter(word)\n",
    "  if check(c, c_word):\n",
    "    res += 1\n",
    "print(res)"
   ]
  },
  {
   "cell_type": "markdown",
   "metadata": {},
   "source": [
    "### 7 小明找位置 - 华为OD统一考试(C卷)"
   ]
  },
  {
   "cell_type": "code",
   "execution_count": 1,
   "metadata": {},
   "outputs": [
    {
     "name": "stdout",
     "output_type": "stream",
     "text": [
      "6\n"
     ]
    }
   ],
   "source": [
    "a = [93, 95, 97, 100, 102, 123, 155]\n",
    "n = 110\n",
    "from bisect import bisect_left \n",
    "i = bisect_left(a, n)\n",
    "print(i + 1)"
   ]
  },
  {
   "cell_type": "markdown",
   "metadata": {},
   "source": [
    "### 8 连续字母长度 - 华为OD统一考试(C卷)"
   ]
  },
  {
   "cell_type": "markdown",
   "metadata": {},
   "source": [
    "输入：\n",
    "AAAAHHHBBCDHHHH\n",
    "3\n",
    "\n",
    "输出：\n",
    "1\n",
    "\n",
    "说明：\n",
    "同一字母连续出现的最多的是 A 和 H ，四次 第二多的是 H，3 次，但是H 已经存在 4 个连续的，故不考虑下个最长子串是 BB，所以最终答案应该输出2."
   ]
  },
  {
   "cell_type": "code",
   "execution_count": 10,
   "metadata": {},
   "outputs": [],
   "source": [
    "s = 'AAAAHHHBBCDHHHH'\n",
    "n = 3"
   ]
  },
  {
   "cell_type": "code",
   "execution_count": 18,
   "metadata": {},
   "outputs": [],
   "source": [
    "s = 'AABAAA'\n",
    "n = 2"
   ]
  },
  {
   "cell_type": "code",
   "execution_count": 19,
   "metadata": {},
   "outputs": [
    {
     "name": "stdout",
     "output_type": "stream",
     "text": [
      "defaultdict(<class 'int'>, {'A': 3, 'B': 1})\n",
      "1\n"
     ]
    }
   ],
   "source": [
    "from collections import defaultdict\n",
    "i = 0\n",
    "d = defaultdict(int)\n",
    "while i < len(s):\n",
    "  start = i\n",
    "  j = start \n",
    "  while j < len(s) and s[j] == s[start]:\n",
    "    j += 1\n",
    "  d[s[start]] = max(d[s[start]], j - start)\n",
    "  i = j \n",
    "print(d)\n",
    "v = list(set(d.values()))\n",
    "v.sort(reverse = True)\n",
    "print(v[n - 1]) if n - 1 < len(v) else print(-1)"
   ]
  },
  {
   "cell_type": "markdown",
   "metadata": {},
   "source": [
    "### 9 密码解密 - 华为OD统一考试(C卷)"
   ]
  },
  {
   "cell_type": "markdown",
   "metadata": {},
   "source": [
    "输入：\n",
    "20*19*20*\n",
    "\n",
    "输出：\n",
    "tst\n",
    "\n",
    "说明：\n",
    "翻译后的文本长度在 100 以内。"
   ]
  },
  {
   "cell_type": "code",
   "execution_count": 24,
   "metadata": {},
   "outputs": [
    {
     "name": "stdout",
     "output_type": "stream",
     "text": [
      "tsz\n"
     ]
    }
   ],
   "source": [
    "from string import ascii_lowercase\n",
    "s = '20*19*26*'\n",
    "res = ''\n",
    "letters = ascii_lowercase\n",
    "n = len(s)\n",
    "i = n - 1\n",
    "while i >= 0:\n",
    "  if s[i] == '*':\n",
    "    res += letters[int(s[i - 2: i]) - 1]\n",
    "    i -= 3\n",
    "  else:\n",
    "    res += letters[int(s[i: i + 1]) - 1]\n",
    "print(res[::-1])"
   ]
  },
  {
   "cell_type": "markdown",
   "metadata": {},
   "source": [
    "### 10 数组去重和排序 - 华为OD统一考试(C卷)"
   ]
  },
  {
   "cell_type": "markdown",
   "metadata": {},
   "source": [
    "输入：\n",
    "1,3,3,2,4,4,4,5\n",
    "\n",
    "输出：\n",
    "4,3,1,2,5"
   ]
  },
  {
   "cell_type": "code",
   "execution_count": 4,
   "metadata": {},
   "outputs": [
    {
     "name": "stdout",
     "output_type": "stream",
     "text": [
      "[4, 3, 1, 2, 5]\n"
     ]
    }
   ],
   "source": [
    "from collections import Counter\n",
    "a = [1,3,3,2,4,4,4,5]\n",
    "c = Counter(a).most_common()\n",
    "print([item[0] for item in c])"
   ]
  },
  {
   "cell_type": "markdown",
   "metadata": {},
   "source": [
    "### 11 找座位 - 华为OD统一考试（C卷）体育场找座位 - 华为OD统一考试（C卷）"
   ]
  },
  {
   "cell_type": "markdown",
   "metadata": {},
   "source": [
    "输入：\n",
    "10001\n",
    "\n",
    "输出：\n",
    "1"
   ]
  },
  {
   "cell_type": "code",
   "execution_count": 13,
   "metadata": {},
   "outputs": [],
   "source": [
    "s = '01000100'\n",
    "s = '10' + s + '01'"
   ]
  },
  {
   "cell_type": "code",
   "execution_count": 14,
   "metadata": {},
   "outputs": [
    {
     "name": "stdout",
     "output_type": "stream",
     "text": [
      "2\n"
     ]
    }
   ],
   "source": [
    "i, res = 0, 0\n",
    "while i < len(s):\n",
    "  start = i \n",
    "  j = start \n",
    "  while j < len(s) and s[start] == s[j]:\n",
    "    j += 1\n",
    "  if s[start] == '0':\n",
    "    res += (j - i - 1) // 2\n",
    "  i = j \n",
    "print(res)"
   ]
  },
  {
   "cell_type": "markdown",
   "metadata": {},
   "source": [
    "### 12 分割均衡字符串 - 华为OD统一考试（C卷）"
   ]
  },
  {
   "cell_type": "markdown",
   "metadata": {},
   "source": [
    "输入\n",
    "XXYYXY\n",
    "\n",
    "输出\n",
    "2\n",
    "\n",
    "备注\n",
    "分割后的子串，是原字符串的连续子串。"
   ]
  },
  {
   "cell_type": "code",
   "execution_count": 15,
   "metadata": {},
   "outputs": [
    {
     "name": "stdout",
     "output_type": "stream",
     "text": [
      "2\n"
     ]
    }
   ],
   "source": [
    "s = 'XXYYXY'\n",
    "n = len(s)\n",
    "count = 0\n",
    "res = 0\n",
    "for i in range(n):\n",
    "  if s[i] == 'X':\n",
    "    count += 1\n",
    "  else:\n",
    "    count -= 1\n",
    "  if count == 0:\n",
    "    res += 1\n",
    "print(res)"
   ]
  },
  {
   "cell_type": "markdown",
   "metadata": {},
   "source": [
    "### 13 靠谱的车- 华为OD统一考试（C卷）"
   ]
  },
  {
   "cell_type": "markdown",
   "metadata": {},
   "source": [
    "n = 5\n",
    "n1 = 15"
   ]
  },
  {
   "cell_type": "code",
   "execution_count": 7,
   "metadata": {},
   "outputs": [
    {
     "name": "stdout",
     "output_type": "stream",
     "text": [
      "14\n",
      "13\n"
     ]
    }
   ],
   "source": [
    "n = 15\n",
    "res = ''\n",
    "for c in str(n):\n",
    "  if c < '4':\n",
    "    res += c \n",
    "  else:\n",
    "    res += chr(ord(c) - 1)\n",
    "print(res)\n",
    "print(int(res, 9))"
   ]
  },
  {
   "cell_type": "markdown",
   "metadata": {},
   "source": [
    "### 14 密码输入检测 - 华为OD统一考试"
   ]
  },
  {
   "cell_type": "markdown",
   "metadata": {},
   "source": [
    "输入：\n",
    "ABC<c89%000<\n",
    "\n",
    "输出：\n",
    "ABc89%00,true\n",
    "\n",
    "解释: 多余的C和0由于退格"
   ]
  },
  {
   "cell_type": "code",
   "execution_count": 24,
   "metadata": {},
   "outputs": [
    {
     "name": "stdout",
     "output_type": "stream",
     "text": [
      "ABc8%900 True\n"
     ]
    }
   ],
   "source": [
    "from string import ascii_lowercase, ascii_uppercase\n",
    "s = 'ABC<c8%9000<'\n",
    "stack = []\n",
    "for c in s:\n",
    "  if stack and c == '<':\n",
    "    stack.pop()\n",
    "  elif c != '<':\n",
    "    stack.append(c)\n",
    "def check(s):\n",
    "  hasNum, hasLetterLower, hasLetterUpper, hasSpecial, eight = False, False, False, False, False\n",
    "  if len(s) >= 8:\n",
    "    eight = True\n",
    "  hasSpecial = any(not c.isalnum() and not c.isspace() for c in s)\n",
    "  for c in s:\n",
    "    if c.isdigit():\n",
    "      hasNum = True\n",
    "    elif c in ascii_lowercase:\n",
    "      hasLetterLower = True \n",
    "    elif c in ascii_uppercase:\n",
    "      hasLetterUpper = True \n",
    "  return hasNum and hasLetterLower and hasLetterUpper and hasSpecial and eight\n",
    "\n",
    "res = ''.join(stack)\n",
    "print(res, check(res))"
   ]
  },
  {
   "cell_type": "markdown",
   "metadata": {},
   "source": [
    "### 15 2023C-找朋友【欧弟算法】全网注释最详细分类最全的华为OD真题题解"
   ]
  },
  {
   "cell_type": "markdown",
   "metadata": {},
   "source": [
    "1 2 6 5 5 6 0 0"
   ]
  },
  {
   "cell_type": "code",
   "execution_count": 26,
   "metadata": {},
   "outputs": [],
   "source": [
    "n = 8\n",
    "a = [123, 124, 125, 121, 119, 122, 126, 123]"
   ]
  },
  {
   "cell_type": "code",
   "execution_count": 27,
   "metadata": {},
   "outputs": [
    {
     "name": "stdout",
     "output_type": "stream",
     "text": [
      "[1, 2, 6, 5, 5, 6, 0, 0]\n"
     ]
    }
   ],
   "source": [
    "stack = list()\n",
    "res = [0] * n\n",
    "\n",
    "for i, h in enumerate(a):\n",
    "    while stack and h > a[stack[-1]]:\n",
    "        Index = stack.pop()\n",
    "        res[Index] = i\n",
    "    stack.append(i)\n",
    "print(res)"
   ]
  },
  {
   "cell_type": "markdown",
   "metadata": {},
   "source": [
    "### 16 转盘寿司 - 华为OD统一考试\n",
    "\n",
    "input: 3 15 6 14\n",
    "output: 3 21 9 17"
   ]
  },
  {
   "cell_type": "code",
   "execution_count": 31,
   "metadata": {},
   "outputs": [
    {
     "name": "stdout",
     "output_type": "stream",
     "text": [
      "[3, 21, 9, 17]\n"
     ]
    }
   ],
   "source": [
    "a = [3, 15, 6, 14]\n",
    "n = len(a)\n",
    "a = a * 2 \n",
    "res = [0] * n\n",
    "for i in range(n):\n",
    "  flag = False\n",
    "  for j in range(i + 1, 2 * n):\n",
    "    if a[j] < a[i]:\n",
    "      res[i] = a[i] + a[j]\n",
    "      flag = True\n",
    "      break \n",
    "  if not flag:\n",
    "    res[i] = a[i]\n",
    "print(res)"
   ]
  },
  {
   "cell_type": "code",
   "execution_count": 33,
   "metadata": {},
   "outputs": [
    {
     "name": "stdout",
     "output_type": "stream",
     "text": [
      "[3, 21, 9, 17, 3, 21, 6, 14]\n"
     ]
    }
   ],
   "source": [
    "a = [3, 15, 6, 14]\n",
    "n = len(a)\n",
    "a = a * 2\n",
    "stack = []\n",
    "res = a[::]\n",
    "for i, n in enumerate(a):\n",
    "  while stack and n < a[stack[-1]]:\n",
    "    idx = stack.pop()\n",
    "    res[idx] += a[i]\n",
    "  stack.append(i)\n",
    "print(res)"
   ]
  },
  {
   "cell_type": "markdown",
   "metadata": {},
   "source": [
    "### 17 2023C-找最小数【欧弟算法】全网注释最详细分类最全的华为OD真题题解 402. Remove K Digits "
   ]
  },
  {
   "cell_type": "code",
   "execution_count": 1,
   "metadata": {},
   "outputs": [],
   "source": [
    "class Solution:\n",
    "    def removeKdigits(self, num: str, k: int) -> str:\n",
    "        stack = []\n",
    "        m = len(num) - k\n",
    "        for n in num:\n",
    "            while k and stack and n < stack[-1]:\n",
    "                stack.pop()\n",
    "                k -= 1\n",
    "            stack.append(n)\n",
    "        return ''.join(stack[:m]).lstrip('0') or '0'"
   ]
  },
  {
   "cell_type": "markdown",
   "metadata": {},
   "source": [
    "题目描述\n",
    "给一个正整数 NUM1，计算出新正整数 NUM2。NUM2 为 NUM1 中移除 N 位数字后的结果，需要使得 NUM2 的值最小。\n",
    "\n",
    "输入\n",
    "输入的第一行为一个字符串，字符串由 0-9 字符组成，记录正整数 NUM1，NUM1 长度小于 32。\n",
    "输入的第二行为需要移除的数字的个数，小于 NUM1 长度。\n",
    "输出\n",
    "输出一个数字字符串，记录最小值 NUM2。"
   ]
  },
  {
   "cell_type": "markdown",
   "metadata": {},
   "source": [
    "### 18 2023C-英文输入法【欧弟算法】全网注释最详细分类最全的华为OD真题题解"
   ]
  },
  {
   "cell_type": "code",
   "execution_count": 3,
   "metadata": {},
   "outputs": [],
   "source": [
    "s = \"The furthest distance in the world,Is not between life and death,But when I stand in front or you,Yet you don't know that I love you\""
   ]
  },
  {
   "cell_type": "code",
   "execution_count": 6,
   "metadata": {},
   "outputs": [
    {
     "name": "stdout",
     "output_type": "stream",
     "text": [
      "['The', 'furthest', 'distance', 'in', 'the', 'world', 'Is', 'not', 'between', 'life', 'and', 'death', 'But', 'when', 'I', 'stand', 'in', 'front', 'or', 'you', 'Yet', 'you', 'don', 't', 'know', 'that', 'I', 'love', 'you']\n",
      "['front', 'furthest']\n"
     ]
    }
   ],
   "source": [
    "l = ['']\n",
    "for c in s:\n",
    "  if c.isalpha():\n",
    "    l[-1] += c \n",
    "  else:\n",
    "    l.append('')\n",
    "print(l)\n",
    "pre = 'f'\n",
    "res = []\n",
    "for word in sorted(l):\n",
    "  if word.startswith(pre):\n",
    "    res.append(word)\n",
    "print(res)"
   ]
  },
  {
   "cell_type": "markdown",
   "metadata": {},
   "source": [
    "### 19 最大N个数与最小N个数的和 - 华为OD统一考试(C卷)"
   ]
  },
  {
   "cell_type": "markdown",
   "metadata": {},
   "source": [
    "输入\n",
    "5\n",
    "95 88 83 64 100\n",
    "2\n",
    "\n",
    "输出\n",
    "342\n",
    "\n",
    "说明\n",
    "最大2个数[100,95],最小2个数[83,64], 输出为342。"
   ]
  },
  {
   "cell_type": "code",
   "execution_count": 10,
   "metadata": {},
   "outputs": [
    {
     "name": "stdout",
     "output_type": "stream",
     "text": [
      "342\n"
     ]
    }
   ],
   "source": [
    "n = 5\n",
    "m = 2\n",
    "a = [95, 88, 83, 64, 100]\n",
    "a = sorted(list(set(a)))\n",
    "print(sum(a[:m]) + sum(a[-m:]))"
   ]
  },
  {
   "cell_type": "markdown",
   "metadata": {},
   "source": [
    "### 1 华为OD机试真题-孙悟空吃蟠桃-2023年OD统一考试（C卷）"
   ]
  },
  {
   "cell_type": "code",
   "execution_count": 13,
   "metadata": {},
   "outputs": [],
   "source": [
    "a = [2,3,4,5]\n",
    "n = 3"
   ]
  },
  {
   "cell_type": "code",
   "execution_count": 14,
   "metadata": {},
   "outputs": [
    {
     "name": "stdout",
     "output_type": "stream",
     "text": [
      "0\n"
     ]
    }
   ],
   "source": [
    "from math import ceil\n",
    "def check(threshold):\n",
    "  count = 0\n",
    "  for num in a:\n",
    "    count += ceil(num / threshold)\n",
    "  return count <= n \n",
    "\n",
    "l, r, res = 1, max(a), 0\n",
    "while l <= r:\n",
    "  m = l + (r - l) // 2\n",
    "  if check(m):\n",
    "    res = m \n",
    "    r = m - 1\n",
    "  else:\n",
    "    l = m + 1\n",
    "print(res)"
   ]
  },
  {
   "cell_type": "code",
   "execution_count": null,
   "metadata": {},
   "outputs": [],
   "source": []
  },
  {
   "cell_type": "code",
   "execution_count": null,
   "metadata": {},
   "outputs": [],
   "source": []
  }
 ],
 "metadata": {
  "kernelspec": {
   "display_name": "Python 3",
   "language": "python",
   "name": "python3"
  },
  "language_info": {
   "codemirror_mode": {
    "name": "ipython",
    "version": 3
   },
   "file_extension": ".py",
   "mimetype": "text/x-python",
   "name": "python",
   "nbconvert_exporter": "python",
   "pygments_lexer": "ipython3",
   "version": "3.9.1"
  }
 },
 "nbformat": 4,
 "nbformat_minor": 2
}
