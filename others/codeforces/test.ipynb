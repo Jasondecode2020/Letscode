{
 "cells": [
  {
   "cell_type": "code",
   "execution_count": 5,
   "metadata": {},
   "outputs": [],
   "source": [
    "# import\n",
    "from collections import Counter\n",
    "from math import gcd, floor, ceil\n",
    "from copy import copy, deepcopy\n",
    "from string import ascii_lowercase, ascii_uppercase\n",
    "from math import inf\n",
    "import string, bisect, heapq \n",
    "from itertools import permutations\n",
    "from math import factorial"
   ]
  },
  {
   "cell_type": "code",
   "execution_count": 18,
   "metadata": {},
   "outputs": [
    {
     "data": {
      "text/plain": [
       "'123'"
      ]
     },
     "execution_count": 18,
     "metadata": {},
     "output_type": "execute_result"
    }
   ],
   "source": [
    "# 1 input a string\n",
    "'''\n",
    "abc\n",
    "'''\n",
    "s = input()\n",
    "s"
   ]
  },
  {
   "cell_type": "code",
   "execution_count": 19,
   "metadata": {},
   "outputs": [
    {
     "data": {
      "text/plain": [
       "3"
      ]
     },
     "execution_count": 19,
     "metadata": {},
     "output_type": "execute_result"
    }
   ],
   "source": [
    "# 2 input a string\n",
    "'''\n",
    "10\n",
    "'''\n",
    "n = int(input())\n",
    "n"
   ]
  },
  {
   "cell_type": "code",
   "execution_count": null,
   "metadata": {},
   "outputs": [],
   "source": [
    "# 3 input has several values, map input string to int\n",
    "'''\n",
    "3\n",
    "1 2 \n",
    "2 3\n",
    "3 2\n",
    "'''\n",
    "n = int(input())\n",
    "for i in range(n):\n",
    "    a, b = map(int, input().split())\n",
    "    if a > b:\n",
    "        print(b, a)\n",
    "    else:\n",
    "        print(a, b)"
   ]
  },
  {
   "cell_type": "code",
   "execution_count": 26,
   "metadata": {},
   "outputs": [
    {
     "name": "stdout",
     "output_type": "stream",
     "text": [
      "[1, 2, 3, 4]\n"
     ]
    }
   ],
   "source": [
    "# 4 input has many values, need to store in an array\n",
    "'''\n",
    "1 2 3 4 5 \n",
    "'''\n",
    "arr = [int(i) for i in input().split()]\n",
    "print(arr)"
   ]
  },
  {
   "cell_type": "code",
   "execution_count": 27,
   "metadata": {},
   "outputs": [
    {
     "name": "stdout",
     "output_type": "stream",
     "text": [
      "5 [1, 2, 3, 4, 5]\n"
     ]
    }
   ],
   "source": [
    "# 5 input with n and array\n",
    "'''\n",
    "5\n",
    "1 2 3 4 5\n",
    "'''\n",
    "n = int(input())\n",
    "arr = [int(i) for i in input().split()]\n",
    "print(n, arr)"
   ]
  },
  {
   "cell_type": "code",
   "execution_count": 28,
   "metadata": {},
   "outputs": [
    {
     "name": "stdout",
     "output_type": "stream",
     "text": [
      "3 [1, 2, 3]\n",
      "5 [1, 2, 3, 4, 5]\n"
     ]
    }
   ],
   "source": [
    "# 6 input with query\n",
    "'''\n",
    "2 # 2 query\n",
    "3 # 3 numbers\n",
    "1 2 3\n",
    "5\n",
    "1 2 3 4 5\n",
    "'''\n",
    "q = int(input())\n",
    "for i in range(q):\n",
    "  n = int(input())\n",
    "  arr = [int(i) for i in input().split()]\n",
    "  print(n, arr)"
   ]
  },
  {
   "cell_type": "code",
   "execution_count": 30,
   "metadata": {},
   "outputs": [
    {
     "name": "stdout",
     "output_type": "stream",
     "text": [
      "[1, 2]\n",
      "[1, 3]\n",
      "[2, 3]\n"
     ]
    }
   ],
   "source": [
    "# 7 input with number of arrays\n",
    "''' \n",
    "4\n",
    "1 2 3\n",
    "2 3 4\n",
    "3 4 5\n",
    "4 5 6\n",
    "'''\n",
    "n = int(input())\n",
    "for i in range(n):\n",
    "  arr = list(map(int, input().split()))\n",
    "  print(arr)"
   ]
  },
  {
   "cell_type": "code",
   "execution_count": 35,
   "metadata": {},
   "outputs": [
    {
     "name": "stdout",
     "output_type": "stream",
     "text": [
      "2\n",
      "3\n"
     ]
    }
   ],
   "source": [
    "n = int(input())\n",
    "for i in range(n):\n",
    "  input()\n",
    "  values = input().split(\" \")\n",
    "  s = set(values)\n",
    "  print(len(s))"
   ]
  },
  {
   "cell_type": "code",
   "execution_count": 36,
   "metadata": {},
   "outputs": [
    {
     "name": "stdout",
     "output_type": "stream",
     "text": [
      "A\n",
      "B\n"
     ]
    }
   ],
   "source": [
    "from collections import Counter\n",
    "n = int(input())\n",
    "for i in range(n):\n",
    "  s = input()\n",
    "  c = Counter(s)\n",
    "  if c['A'] > c['B']:\n",
    "    print('A')\n",
    "  else:\n",
    "    print('B')"
   ]
  },
  {
   "cell_type": "code",
   "execution_count": 5,
   "metadata": {},
   "outputs": [
    {
     "name": "stdout",
     "output_type": "stream",
     "text": [
      "SQUARE\n",
      "{2}\n"
     ]
    }
   ],
   "source": [
    "# 3\n",
    "# 000\n",
    "# 011\n",
    "# 011\n",
    "q = int(input())\n",
    "for i in range(q):\n",
    "  n = int(input())\n",
    "  s = set()\n",
    "  for j in range(n):\n",
    "    row = input()\n",
    "    if row.count('1') != 0:\n",
    "      s.add(row.count('1'))\n",
    "  if len(s) == 1:\n",
    "    print('SQUARE')\n",
    "  else:\n",
    "    print('TRIANGLE')\n",
    "  print(s)"
   ]
  },
  {
   "cell_type": "code",
   "execution_count": 8,
   "metadata": {},
   "outputs": [
    {
     "name": "stdout",
     "output_type": "stream",
     "text": [
      "51\n",
      "1\n",
      "3\n",
      "6\n",
      "18465\n",
      "28170\n",
      "4600002\n"
     ]
    }
   ],
   "source": [
    "# 7\n",
    "# 12\n",
    "# 1\n",
    "# 2\n",
    "# 3\n",
    "# 1434\n",
    "# 2024\n",
    "# 200000\n",
    "n = 2 * 10 ** 5 + 1\n",
    "dp = [1] * n\n",
    "for i in range(2, n + 1):\n",
    "    dp[i] = dp[i - 1] + sum(int(j) for j in str(i))\n",
    "q = int(input())\n",
    "for i in range(q):\n",
    "  m = int(input())\n",
    "  res = dp[m]\n",
    "  print(res)"
   ]
  },
  {
   "cell_type": "code",
   "execution_count": 7,
   "metadata": {},
   "outputs": [],
   "source": [
    "# 51\n",
    "# 1\n",
    "# 3\n",
    "# 6\n",
    "# 18465\n",
    "# 28170\n",
    "# 4600002"
   ]
  },
  {
   "cell_type": "code",
   "execution_count": 10,
   "metadata": {},
   "outputs": [
    {
     "name": "stdout",
     "output_type": "stream",
     "text": [
      "51\n",
      "1\n",
      "3\n",
      "6\n",
      "18465\n",
      "28170\n",
      "4600002\n"
     ]
    }
   ],
   "source": [
    "n = 2 * 10 ** 5 + 1\n",
    "dp = [1] * n\n",
    "for i in range(2, n):\n",
    "    dp[i] = dp[i - 1] + sum(int(j) for j in str(i))\n",
    "q = int(input())\n",
    "for i in range(q):\n",
    "  m = int(input())\n",
    "  res = dp[m]\n",
    "  print(res)"
   ]
  },
  {
   "cell_type": "code",
   "execution_count": 11,
   "metadata": {},
   "outputs": [],
   "source": [
    "# 9\n",
    "# 4\n",
    "# 1 4 3 4\n",
    "# 2\n",
    "# 0 2147483647\n",
    "# 5\n",
    "# 476319172 261956880 2136179468 1671164475 1885526767\n",
    "# 3\n",
    "# 1335890506 811593141 1128223362\n",
    "# 4\n",
    "# 688873446 627404104 1520079543 1458610201\n",
    "# 4\n",
    "# 61545621 2085938026 1269342732 1430258575\n",
    "# 4\n",
    "# 0 0 2147483647 2147483647\n",
    "# 3\n",
    "# 0 0 2147483647\n",
    "# 8\n",
    "# 1858058912 289424735 1858058912 2024818580 1858058912 289424735 122665067 289424735"
   ]
  },
  {
   "cell_type": "code",
   "execution_count": 42,
   "metadata": {},
   "outputs": [
    {
     "name": "stdout",
     "output_type": "stream",
     "text": [
      "4\n"
     ]
    }
   ],
   "source": [
    "from collections import defaultdict\n",
    "\n",
    "q = int(input())\n",
    "mask = 2 ** 31 - 1\n",
    "for _ in range(q):\n",
    "    n = int(input())\n",
    "    count = 0\n",
    "    nums = list(map(int, input().split()))\n",
    "    nums.sort()\n",
    "    l, r = 0, len(nums) - 1\n",
    "    while l < r:\n",
    "        if nums[l] + nums[r] < mask:\n",
    "            l += 1\n",
    "        elif nums[l] + nums[r] > mask:\n",
    "            r -= 1\n",
    "        else:\n",
    "            l += 1\n",
    "            r -= 1\n",
    "            count += 1\n",
    "    print(n - count)"
   ]
  },
  {
   "cell_type": "code",
   "execution_count": 17,
   "metadata": {},
   "outputs": [
    {
     "data": {
      "text/plain": [
       "True"
      ]
     },
     "execution_count": 17,
     "metadata": {},
     "output_type": "execute_result"
    }
   ],
   "source": [
    "# 5\n",
    "# 2 4\n",
    "# 3 6\n",
    "# 2 15\n",
    "# 6 22\n",
    "# 114514 1919810"
   ]
  },
  {
   "cell_type": "code",
   "execution_count": 45,
   "metadata": {},
   "outputs": [],
   "source": [
    "def primeFactors(n):\n",
    "  res = []\n",
    "  for i in range(2, int(n ** 0.5) + 1):\n",
    "      while n % i == 0:\n",
    "          res.append(i)\n",
    "          n //= i\n",
    "  if n >= 2:\n",
    "      res.append(n)\n",
    "  return res"
   ]
  },
  {
   "cell_type": "code",
   "execution_count": 46,
   "metadata": {},
   "outputs": [
    {
     "data": {
      "text/plain": [
       "[2, 2, 3]"
      ]
     },
     "execution_count": 46,
     "metadata": {},
     "output_type": "execute_result"
    }
   ],
   "source": [
    "primeFactors(12)\n"
   ]
  },
  {
   "cell_type": "code",
   "execution_count": 56,
   "metadata": {},
   "outputs": [
    {
     "name": "stdout",
     "output_type": "stream",
     "text": [
      "2\n",
      "20\n"
     ]
    }
   ],
   "source": [
    "q = int(input())\n",
    "for _ in range(q):\n",
    "  l, r = map(int, input().split())\n",
    "  for i in range(40, -1, -1):\n",
    "    if l <= 2 ** i <= r:\n",
    "      print(i)\n",
    "      break"
   ]
  },
  {
   "cell_type": "code",
   "execution_count": 57,
   "metadata": {},
   "outputs": [],
   "source": [
    "# 2\n",
    "# 2\n",
    "# 3\n",
    "# 4\n",
    "# 20"
   ]
  },
  {
   "cell_type": "code",
   "execution_count": 80,
   "metadata": {},
   "outputs": [],
   "source": [
    "# 9\n",
    "# 0 0\n",
    "# 0 1\n",
    "# 0 2\n",
    "# 1 0\n",
    "# 5 2\n",
    "# 10 1\n",
    "# 20 3\n",
    "# 1145 14\n",
    "# 19198 10"
   ]
  },
  {
   "cell_type": "code",
   "execution_count": 60,
   "metadata": {},
   "outputs": [],
   "source": [
    "# 0\n",
    "# 1\n",
    "# 3\n",
    "# 1\n",
    "# 7\n",
    "# 11  15\n",
    "# 23  31\n",
    "# 1279\n",
    "# 19455"
   ]
  },
  {
   "cell_type": "code",
   "execution_count": 111,
   "metadata": {},
   "outputs": [
    {
     "name": "stdout",
     "output_type": "stream",
     "text": [
      "3\n"
     ]
    }
   ],
   "source": [
    "from math import log\n",
    "q = int(input())\n",
    "for _ in range(q):\n",
    "  a, m = map(int, input().split())\n",
    "  if m == 0:\n",
    "    print(a)\n",
    "  else:\n",
    "    mx = min(m, 31)\n",
    "    if a == 0:\n",
    "      for _ in range(mx):\n",
    "        a = a | (a + 1)\n",
    "      print(a)\n",
    "    else:\n",
    "      a = a | (a - 1) | (a + 1)\n",
    "      print(a)"
   ]
  },
  {
   "cell_type": "code",
   "execution_count": 67,
   "metadata": {},
   "outputs": [
    {
     "data": {
      "text/plain": [
       "2.0"
      ]
     },
     "execution_count": 67,
     "metadata": {},
     "output_type": "execute_result"
    }
   ],
   "source": [
    "# 7\n",
    "# 4\n",
    "# 1 1 2 2\n",
    "# 5\n",
    "# 1 2 3 4 5\n",
    "# 3\n",
    "# 3 3 3\n",
    "# 4\n",
    "# 1 2 2 2\n",
    "# 3\n",
    "# 1 2 2\n",
    "# 3\n",
    "# 1 1 2\n",
    "# 3\n",
    "# 1 9 84"
   ]
  },
  {
   "cell_type": "code",
   "execution_count": 10,
   "metadata": {},
   "outputs": [
    {
     "name": "stdout",
     "output_type": "stream",
     "text": [
      "YES\n",
      "RBR\n",
      "YES\n",
      "BRR\n",
      "YES\n",
      "BRR\n"
     ]
    }
   ],
   "source": [
    "from collections import Counter\n",
    "q = int(input())\n",
    "for i in range(q):\n",
    "  n = int(input())\n",
    "  arr = [int(i) for i in input().split()]\n",
    "  c = Counter(arr)\n",
    "  if len(c) == 1:\n",
    "    print('NO')\n",
    "  else:\n",
    "    mx = c.most_common()[0][0]\n",
    "    print('YES')\n",
    "    flag = True\n",
    "    ans = []\n",
    "    for n in arr:\n",
    "      if flag and n == mx:\n",
    "        ans.append('B')\n",
    "        flag = False\n",
    "      else:\n",
    "        ans.append('R')\n",
    "    print(''.join(ans))\n"
   ]
  },
  {
   "cell_type": "code",
   "execution_count": 11,
   "metadata": {},
   "outputs": [],
   "source": [
    "# 11\n",
    "# 1337\n",
    "# 200\n",
    "# 1393938\n",
    "# 1434\n",
    "# 98765432123456789\n",
    "# 11111111111111111\n",
    "# 420\n",
    "# 1984\n",
    "# 10\n",
    "# 69\n",
    "# 119"
   ]
  },
  {
   "cell_type": "code",
   "execution_count": 13,
   "metadata": {},
   "outputs": [
    {
     "name": "stdout",
     "output_type": "stream",
     "text": [
      "NO\n"
     ]
    }
   ],
   "source": [
    "q = int(input())\n",
    "for i in range(q):\n",
    "  n = int(input())\n",
    "  arr = [int(i) for i in str(n)]\n",
    "  L = len(arr)\n",
    "  flag = False\n",
    "  for i in range(L - 1, 0, -1):\n",
    "    if arr[i] == 9:\n",
    "      print('NO')\n",
    "      flag = True\n",
    "      break\n",
    "    else:\n",
    "      arr[i - 1] = arr[i - 1] - 1 if arr[i - 1] >= 1 else 9\n",
    "  if 0 <= int(''.join([str(i) for i in arr[:2]])) < 9:\n",
    "    print('YES')\n",
    "  else:\n",
    "    if not flag:\n",
    "      print('NO')"
   ]
  },
  {
   "cell_type": "code",
   "execution_count": 15,
   "metadata": {},
   "outputs": [],
   "source": [
    "# YES\n",
    "# NO\n",
    "# YES\n",
    "# YES\n",
    "# NO\n",
    "# YES\n",
    "# NO\n",
    "# YES\n",
    "# YES\n",
    "# NO\n",
    "# NO"
   ]
  },
  {
   "cell_type": "code",
   "execution_count": 16,
   "metadata": {},
   "outputs": [
    {
     "ename": "NameError",
     "evalue": "name 'a' is not defined",
     "output_type": "error",
     "traceback": [
      "\u001b[1;31m---------------------------------------------------------------------------\u001b[0m",
      "\u001b[1;31mNameError\u001b[0m                                 Traceback (most recent call last)",
      "Cell \u001b[1;32mIn[16], line 1\u001b[0m\n\u001b[1;32m----> 1\u001b[0m n \u001b[38;5;241m=\u001b[39m \u001b[38;5;28mlen\u001b[39m(\u001b[43ma\u001b[49m)\n\u001b[0;32m      2\u001b[0m \u001b[38;5;66;03m# Initialize a set to store the possible values of c\u001b[39;00m\n\u001b[0;32m      3\u001b[0m possible_values \u001b[38;5;241m=\u001b[39m {\u001b[38;5;241m0\u001b[39m}\n",
      "\u001b[1;31mNameError\u001b[0m: name 'a' is not defined"
     ]
    }
   ],
   "source": [
    "n = len(a)\n",
    "# Initialize a set to store the possible values of c\n",
    "possible_values = {0}\n",
    "\n",
    "for i in range(n):\n",
    "    new_values = set()\n",
    "    for val in possible_values:\n",
    "        new_values.add(val + a[i])\n",
    "        new_values.add(abs(val + a[i]))\n",
    "    possible_values = new_values\n",
    "\n",
    "return max(possible_values)"
   ]
  },
  {
   "cell_type": "code",
   "execution_count": 28,
   "metadata": {},
   "outputs": [],
   "source": [
    "# 5\n",
    "# 4\n",
    "# 10 -9 -3 4\n",
    "# 8\n",
    "# 1 4 3 4 1 4 3 4\n",
    "# 3\n",
    "# -1 -2 -3\n",
    "# 4\n",
    "# -1000000000 1000000000 1000000000 1000000000\n",
    "# 4\n",
    "# 1 9 8 4"
   ]
  },
  {
   "cell_type": "code",
   "execution_count": 39,
   "metadata": {},
   "outputs": [
    {
     "name": "stdout",
     "output_type": "stream",
     "text": [
      "22\n"
     ]
    }
   ],
   "source": [
    "q = int(input())\n",
    "for i in range(q):\n",
    "  n = int(input())\n",
    "  arr = [int(i) for i in input().split()]\n",
    "  L = len(arr)\n",
    "  mn, mx = 0, 0\n",
    "  for i in range(L):\n",
    "    temp = mn\n",
    "    mn = mn + arr[i]\n",
    "    mx = max(abs(temp + arr[i]), abs(mx + arr[i]))\n",
    "  print(mx)"
   ]
  },
  {
   "cell_type": "code",
   "execution_count": null,
   "metadata": {},
   "outputs": [],
   "source": [
    "# 5\n",
    "# 4\n",
    "# 2 -5 3 -3\n",
    "# 8\n",
    "# 1 4 3 4 1 4 3 4\n",
    "# 3\n",
    "# -1 -2 -3\n",
    "# 4\n",
    "# -1000000000 1000000000 1000000000 1000000000\n",
    "# 4\n",
    "# 1 9 8 4"
   ]
  },
  {
   "cell_type": "code",
   "execution_count": 46,
   "metadata": {},
   "outputs": [
    {
     "name": "stdout",
     "output_type": "stream",
     "text": [
      "510\n"
     ]
    }
   ],
   "source": [
    "from collections import Counter\n",
    "q = int(input())\n",
    "for i in range(q):\n",
    "  n = int(input())\n",
    "  arr = [int(i) for i in input().split()]\n",
    "  L = len(arr)\n",
    "  mn, mx = 0, 0\n",
    "  d = Counter()\n",
    "  d[0] = 1\n",
    "  res = 0\n",
    "  for i in range(L):\n",
    "    temp = mn\n",
    "    mn = mn + arr[i]\n",
    "    mx = max(abs(temp + arr[i]), abs(mx + arr[i]))\n",
    "    if mn == mx:\n",
    "      d[mn] = d[temp] * 2 \n",
    "      d[mx] = d[temp] * 2 \n",
    "    else:\n",
    "      d[mn] = d[temp]\n",
    "      d[mx] = d[temp] if abs(temp + arr[i]) >  abs(mx + arr[i]) else d[mx]\n",
    "    res = res + d[mn] + d[mx] if mn != mx else res + d[mn]\n",
    "  print(res)"
   ]
  },
  {
   "cell_type": "code",
   "execution_count": null,
   "metadata": {},
   "outputs": [],
   "source": []
  }
 ],
 "metadata": {
  "kernelspec": {
   "display_name": "Python 3",
   "language": "python",
   "name": "python3"
  },
  "language_info": {
   "codemirror_mode": {
    "name": "ipython",
    "version": 3
   },
   "file_extension": ".py",
   "mimetype": "text/x-python",
   "name": "python",
   "nbconvert_exporter": "python",
   "pygments_lexer": "ipython3",
   "version": "3.9.1"
  }
 },
 "nbformat": 4,
 "nbformat_minor": 2
}
