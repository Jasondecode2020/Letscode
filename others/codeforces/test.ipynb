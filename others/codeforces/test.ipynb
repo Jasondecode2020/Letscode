{
 "cells": [
  {
   "cell_type": "code",
   "execution_count": 1,
   "metadata": {},
   "outputs": [],
   "source": [
    "# import\n",
    "from collections import Counter\n",
    "from math import gcd, floor, ceil\n",
    "from copy import copy, deepcopy\n",
    "from string import ascii_lowercase, ascii_uppercase\n",
    "from math import inf\n",
    "import string, bisect, heapq \n",
    "from itertools import permutations\n",
    "from math import factorial"
   ]
  },
  {
   "cell_type": "code",
   "execution_count": 2,
   "metadata": {},
   "outputs": [
    {
     "data": {
      "text/plain": [
       "''"
      ]
     },
     "execution_count": 2,
     "metadata": {},
     "output_type": "execute_result"
    }
   ],
   "source": [
    "# 1 input a string\n",
    "'''\n",
    "abc\n",
    "'''\n",
    "s = input()\n",
    "s"
   ]
  },
  {
   "cell_type": "code",
   "execution_count": 3,
   "metadata": {},
   "outputs": [
    {
     "ename": "ValueError",
     "evalue": "invalid literal for int() with base 10: ''",
     "output_type": "error",
     "traceback": [
      "\u001b[1;31m---------------------------------------------------------------------------\u001b[0m",
      "\u001b[1;31mValueError\u001b[0m                                Traceback (most recent call last)",
      "Cell \u001b[1;32mIn[3], line 5\u001b[0m\n\u001b[0;32m      1\u001b[0m \u001b[38;5;66;03m# 2 input a string\u001b[39;00m\n\u001b[0;32m      2\u001b[0m \u001b[38;5;124;03m'''\u001b[39;00m\n\u001b[0;32m      3\u001b[0m \u001b[38;5;124;03m10\u001b[39;00m\n\u001b[0;32m      4\u001b[0m \u001b[38;5;124;03m'''\u001b[39;00m\n\u001b[1;32m----> 5\u001b[0m n \u001b[38;5;241m=\u001b[39m \u001b[38;5;28;43mint\u001b[39;49m\u001b[43m(\u001b[49m\u001b[38;5;28;43minput\u001b[39;49m\u001b[43m(\u001b[49m\u001b[43m)\u001b[49m\u001b[43m)\u001b[49m\n\u001b[0;32m      6\u001b[0m n\n",
      "\u001b[1;31mValueError\u001b[0m: invalid literal for int() with base 10: ''"
     ]
    }
   ],
   "source": [
    "# 2 input a string\n",
    "'''\n",
    "10\n",
    "'''\n",
    "n = int(input())\n",
    "n"
   ]
  },
  {
   "cell_type": "code",
   "execution_count": null,
   "metadata": {},
   "outputs": [],
   "source": [
    "# 3 input has several values, map input string to int\n",
    "'''\n",
    "3\n",
    "1 2 \n",
    "2 3\n",
    "3 2\n",
    "'''\n",
    "n = int(input())\n",
    "for i in range(n):\n",
    "    a, b = map(int, input().split())\n",
    "    if a > b:\n",
    "        print(b, a)\n",
    "    else:\n",
    "        print(a, b)"
   ]
  },
  {
   "cell_type": "code",
   "execution_count": null,
   "metadata": {},
   "outputs": [
    {
     "name": "stdout",
     "output_type": "stream",
     "text": [
      "[1, 2, 3, 4]\n"
     ]
    }
   ],
   "source": [
    "# 4 input has many values, need to store in an array\n",
    "'''\n",
    "1 2 3 4 5 \n",
    "'''\n",
    "arr = [int(i) for i in input().split()]\n",
    "print(arr)"
   ]
  },
  {
   "cell_type": "code",
   "execution_count": 4,
   "metadata": {},
   "outputs": [
    {
     "ename": "ValueError",
     "evalue": "invalid literal for int() with base 10: ''",
     "output_type": "error",
     "traceback": [
      "\u001b[1;31m---------------------------------------------------------------------------\u001b[0m",
      "\u001b[1;31mValueError\u001b[0m                                Traceback (most recent call last)",
      "Cell \u001b[1;32mIn[4], line 6\u001b[0m\n\u001b[0;32m      1\u001b[0m \u001b[38;5;66;03m# 5 input with n and array\u001b[39;00m\n\u001b[0;32m      2\u001b[0m \u001b[38;5;124;03m'''\u001b[39;00m\n\u001b[0;32m      3\u001b[0m \u001b[38;5;124;03m5\u001b[39;00m\n\u001b[0;32m      4\u001b[0m \u001b[38;5;124;03m1 2 3 4 5\u001b[39;00m\n\u001b[0;32m      5\u001b[0m \u001b[38;5;124;03m'''\u001b[39;00m\n\u001b[1;32m----> 6\u001b[0m n \u001b[38;5;241m=\u001b[39m \u001b[38;5;28;43mint\u001b[39;49m\u001b[43m(\u001b[49m\u001b[38;5;28;43minput\u001b[39;49m\u001b[43m(\u001b[49m\u001b[43m)\u001b[49m\u001b[43m)\u001b[49m\n\u001b[0;32m      7\u001b[0m arr \u001b[38;5;241m=\u001b[39m [\u001b[38;5;28mint\u001b[39m(i) \u001b[38;5;28;01mfor\u001b[39;00m i \u001b[38;5;129;01min\u001b[39;00m \u001b[38;5;28minput\u001b[39m()\u001b[38;5;241m.\u001b[39msplit()]\n\u001b[0;32m      8\u001b[0m \u001b[38;5;28mprint\u001b[39m(n, arr)\n",
      "\u001b[1;31mValueError\u001b[0m: invalid literal for int() with base 10: ''"
     ]
    }
   ],
   "source": [
    "# 5 input with n and array\n",
    "'''\n",
    "5\n",
    "1 2 3 4 5\n",
    "'''\n",
    "n = int(input())\n",
    "arr = [int(i) for i in input().split()]\n",
    "print(n, arr)"
   ]
  },
  {
   "cell_type": "code",
   "execution_count": 5,
   "metadata": {},
   "outputs": [
    {
     "ename": "ValueError",
     "evalue": "invalid literal for int() with base 10: ''",
     "output_type": "error",
     "traceback": [
      "\u001b[1;31m---------------------------------------------------------------------------\u001b[0m",
      "\u001b[1;31mValueError\u001b[0m                                Traceback (most recent call last)",
      "Cell \u001b[1;32mIn[5], line 9\u001b[0m\n\u001b[0;32m      1\u001b[0m \u001b[38;5;66;03m# 6 input with query\u001b[39;00m\n\u001b[0;32m      2\u001b[0m \u001b[38;5;124;03m'''\u001b[39;00m\n\u001b[0;32m      3\u001b[0m \u001b[38;5;124;03m2 # 2 query\u001b[39;00m\n\u001b[0;32m      4\u001b[0m \u001b[38;5;124;03m3 # 3 numbers\u001b[39;00m\n\u001b[1;32m   (...)\u001b[0m\n\u001b[0;32m      7\u001b[0m \u001b[38;5;124;03m1 2 3 4 5\u001b[39;00m\n\u001b[0;32m      8\u001b[0m \u001b[38;5;124;03m'''\u001b[39;00m\n\u001b[1;32m----> 9\u001b[0m q \u001b[38;5;241m=\u001b[39m \u001b[38;5;28;43mint\u001b[39;49m\u001b[43m(\u001b[49m\u001b[38;5;28;43minput\u001b[39;49m\u001b[43m(\u001b[49m\u001b[43m)\u001b[49m\u001b[43m)\u001b[49m\n\u001b[0;32m     10\u001b[0m \u001b[38;5;28;01mfor\u001b[39;00m i \u001b[38;5;129;01min\u001b[39;00m \u001b[38;5;28mrange\u001b[39m(q):\n\u001b[0;32m     11\u001b[0m   n \u001b[38;5;241m=\u001b[39m \u001b[38;5;28mint\u001b[39m(\u001b[38;5;28minput\u001b[39m())\n",
      "\u001b[1;31mValueError\u001b[0m: invalid literal for int() with base 10: ''"
     ]
    }
   ],
   "source": [
    "# 6 input with query\n",
    "'''\n",
    "2 # 2 query\n",
    "3 # 3 numbers\n",
    "1 2 3\n",
    "5\n",
    "1 2 3 4 5\n",
    "'''\n",
    "q = int(input())\n",
    "for i in range(q):\n",
    "  n = int(input())\n",
    "  arr = [int(i) for i in input().split()]\n",
    "  print(n, arr)"
   ]
  },
  {
   "cell_type": "code",
   "execution_count": 6,
   "metadata": {},
   "outputs": [
    {
     "ename": "KeyboardInterrupt",
     "evalue": "Interrupted by user",
     "output_type": "error",
     "traceback": [
      "\u001b[1;31m---------------------------------------------------------------------------\u001b[0m",
      "\u001b[1;31mKeyboardInterrupt\u001b[0m                         Traceback (most recent call last)",
      "Cell \u001b[1;32mIn[6], line 9\u001b[0m\n\u001b[0;32m      1\u001b[0m \u001b[38;5;66;03m# 7 input with number of arrays\u001b[39;00m\n\u001b[0;32m      2\u001b[0m \u001b[38;5;124;03m''' \u001b[39;00m\n\u001b[0;32m      3\u001b[0m \u001b[38;5;124;03m4\u001b[39;00m\n\u001b[0;32m      4\u001b[0m \u001b[38;5;124;03m1 2 3\u001b[39;00m\n\u001b[1;32m   (...)\u001b[0m\n\u001b[0;32m      7\u001b[0m \u001b[38;5;124;03m4 5 6\u001b[39;00m\n\u001b[0;32m      8\u001b[0m \u001b[38;5;124;03m'''\u001b[39;00m\n\u001b[1;32m----> 9\u001b[0m n \u001b[38;5;241m=\u001b[39m \u001b[38;5;28mint\u001b[39m(\u001b[38;5;28;43minput\u001b[39;49m\u001b[43m(\u001b[49m\u001b[43m)\u001b[49m)\n\u001b[0;32m     10\u001b[0m \u001b[38;5;28;01mfor\u001b[39;00m i \u001b[38;5;129;01min\u001b[39;00m \u001b[38;5;28mrange\u001b[39m(n):\n\u001b[0;32m     11\u001b[0m   arr \u001b[38;5;241m=\u001b[39m \u001b[38;5;28mlist\u001b[39m(\u001b[38;5;28mmap\u001b[39m(\u001b[38;5;28mint\u001b[39m, \u001b[38;5;28minput\u001b[39m()\u001b[38;5;241m.\u001b[39msplit()))\n",
      "File \u001b[1;32m~\\AppData\\Roaming\\Python\\Python39\\site-packages\\ipykernel\\kernelbase.py:1251\u001b[0m, in \u001b[0;36mKernel.raw_input\u001b[1;34m(self, prompt)\u001b[0m\n\u001b[0;32m   1249\u001b[0m     msg \u001b[38;5;241m=\u001b[39m \u001b[38;5;124m\"\u001b[39m\u001b[38;5;124mraw_input was called, but this frontend does not support input requests.\u001b[39m\u001b[38;5;124m\"\u001b[39m\n\u001b[0;32m   1250\u001b[0m     \u001b[38;5;28;01mraise\u001b[39;00m StdinNotImplementedError(msg)\n\u001b[1;32m-> 1251\u001b[0m \u001b[38;5;28;01mreturn\u001b[39;00m \u001b[38;5;28;43mself\u001b[39;49m\u001b[38;5;241;43m.\u001b[39;49m\u001b[43m_input_request\u001b[49m\u001b[43m(\u001b[49m\n\u001b[0;32m   1252\u001b[0m \u001b[43m    \u001b[49m\u001b[38;5;28;43mstr\u001b[39;49m\u001b[43m(\u001b[49m\u001b[43mprompt\u001b[49m\u001b[43m)\u001b[49m\u001b[43m,\u001b[49m\n\u001b[0;32m   1253\u001b[0m \u001b[43m    \u001b[49m\u001b[38;5;28;43mself\u001b[39;49m\u001b[38;5;241;43m.\u001b[39;49m\u001b[43m_parent_ident\u001b[49m\u001b[43m[\u001b[49m\u001b[38;5;124;43m\"\u001b[39;49m\u001b[38;5;124;43mshell\u001b[39;49m\u001b[38;5;124;43m\"\u001b[39;49m\u001b[43m]\u001b[49m\u001b[43m,\u001b[49m\n\u001b[0;32m   1254\u001b[0m \u001b[43m    \u001b[49m\u001b[38;5;28;43mself\u001b[39;49m\u001b[38;5;241;43m.\u001b[39;49m\u001b[43mget_parent\u001b[49m\u001b[43m(\u001b[49m\u001b[38;5;124;43m\"\u001b[39;49m\u001b[38;5;124;43mshell\u001b[39;49m\u001b[38;5;124;43m\"\u001b[39;49m\u001b[43m)\u001b[49m\u001b[43m,\u001b[49m\n\u001b[0;32m   1255\u001b[0m \u001b[43m    \u001b[49m\u001b[43mpassword\u001b[49m\u001b[38;5;241;43m=\u001b[39;49m\u001b[38;5;28;43;01mFalse\u001b[39;49;00m\u001b[43m,\u001b[49m\n\u001b[0;32m   1256\u001b[0m \u001b[43m\u001b[49m\u001b[43m)\u001b[49m\n",
      "File \u001b[1;32m~\\AppData\\Roaming\\Python\\Python39\\site-packages\\ipykernel\\kernelbase.py:1295\u001b[0m, in \u001b[0;36mKernel._input_request\u001b[1;34m(self, prompt, ident, parent, password)\u001b[0m\n\u001b[0;32m   1292\u001b[0m \u001b[38;5;28;01mexcept\u001b[39;00m \u001b[38;5;167;01mKeyboardInterrupt\u001b[39;00m:\n\u001b[0;32m   1293\u001b[0m     \u001b[38;5;66;03m# re-raise KeyboardInterrupt, to truncate traceback\u001b[39;00m\n\u001b[0;32m   1294\u001b[0m     msg \u001b[38;5;241m=\u001b[39m \u001b[38;5;124m\"\u001b[39m\u001b[38;5;124mInterrupted by user\u001b[39m\u001b[38;5;124m\"\u001b[39m\n\u001b[1;32m-> 1295\u001b[0m     \u001b[38;5;28;01mraise\u001b[39;00m \u001b[38;5;167;01mKeyboardInterrupt\u001b[39;00m(msg) \u001b[38;5;28;01mfrom\u001b[39;00m \u001b[38;5;28;01mNone\u001b[39;00m\n\u001b[0;32m   1296\u001b[0m \u001b[38;5;28;01mexcept\u001b[39;00m \u001b[38;5;167;01mException\u001b[39;00m:\n\u001b[0;32m   1297\u001b[0m     \u001b[38;5;28mself\u001b[39m\u001b[38;5;241m.\u001b[39mlog\u001b[38;5;241m.\u001b[39mwarning(\u001b[38;5;124m\"\u001b[39m\u001b[38;5;124mInvalid Message:\u001b[39m\u001b[38;5;124m\"\u001b[39m, exc_info\u001b[38;5;241m=\u001b[39m\u001b[38;5;28;01mTrue\u001b[39;00m)\n",
      "\u001b[1;31mKeyboardInterrupt\u001b[0m: Interrupted by user"
     ]
    }
   ],
   "source": [
    "# 7 input with number of arrays\n",
    "''' \n",
    "4\n",
    "1 2 3\n",
    "2 3 4\n",
    "3 4 5\n",
    "4 5 6\n",
    "'''\n",
    "n = int(input())\n",
    "for i in range(n):\n",
    "  arr = list(map(int, input().split()))\n",
    "  print(arr)"
   ]
  },
  {
   "cell_type": "code",
   "execution_count": 7,
   "metadata": {},
   "outputs": [],
   "source": [
    "# 6\n",
    "# bit set\n",
    "# cat dog\n",
    "# hot dog\n",
    "# uwu owo\n",
    "# cat cat\n",
    "# zzz zzz"
   ]
  },
  {
   "cell_type": "code",
   "execution_count": 9,
   "metadata": {},
   "outputs": [
    {
     "name": "stdout",
     "output_type": "stream",
     "text": [
      "cat cat\n"
     ]
    }
   ],
   "source": [
    "n = int(input())\n",
    "for i in range(n):\n",
    "  arr = list(input().split())\n",
    "  arr = [list(item) for item in arr]\n",
    "  arr[0][0], arr[1][0] = arr[1][0], arr[0][0]\n",
    "  arr = [''.join(item) for item in arr]\n",
    "  print(arr[0] + ' ' + arr[1])"
   ]
  },
  {
   "cell_type": "code",
   "execution_count": 10,
   "metadata": {},
   "outputs": [],
   "source": [
    "# 2\n",
    "# 3\n",
    "# 15"
   ]
  },
  {
   "cell_type": "code",
   "execution_count": 18,
   "metadata": {},
   "outputs": [
    {
     "name": "stdout",
     "output_type": "stream",
     "text": [
      "3\n"
     ]
    }
   ],
   "source": [
    "q = int(input())\n",
    "for i in range(q):\n",
    "  n = int(input())\n",
    "  ans = 0\n",
    "  num = n \n",
    "  for i in range(2, n + 1):\n",
    "    res = 0\n",
    "    j = 1\n",
    "    while j * i <= n:\n",
    "      res += j * i \n",
    "      j += 1\n",
    "    if res > ans:\n",
    "      num = i\n",
    "      ans = res\n",
    "  print(num)"
   ]
  },
  {
   "cell_type": "code",
   "execution_count": 19,
   "metadata": {},
   "outputs": [],
   "source": [
    "# 7\n",
    "# 1\n",
    "# 0\n",
    "# 1\n",
    "# 1\n",
    "# 4\n",
    "# 1 1 2 0\n",
    "# 5\n",
    "# 0 1 2 1 4\n",
    "# 7\n",
    "# 1 1 0 3 5 2 12\n",
    "# 7\n",
    "# 1000000000 1000000000 1000000000 1000000000 1000000000 1000000000 294967296\n",
    "# 10\n",
    "# 0 1000000000 1000000000 1000000000 1000000000 1000000000 1000000000 1000000000 1000000000 589934592"
   ]
  },
  {
   "cell_type": "code",
   "execution_count": 23,
   "metadata": {},
   "outputs": [
    {
     "name": "stdout",
     "output_type": "stream",
     "text": [
      "2\n"
     ]
    }
   ],
   "source": [
    "q = int(input())\n",
    "for i in range(q):\n",
    "  n = int(input())\n",
    "  arr = list(map(int, input().split()))\n",
    "  total = 0\n",
    "  mx = 0\n",
    "  res = 0\n",
    "  for i, v in enumerate(arr):\n",
    "    total += v \n",
    "    mx = max(mx, v)\n",
    "    if total == 2 * mx:\n",
    "      res += 1\n",
    "  print(res)"
   ]
  },
  {
   "cell_type": "code",
   "execution_count": 24,
   "metadata": {},
   "outputs": [],
   "source": [
    "6\n",
    "5 5\n",
    ".....\n",
    ".....\n",
    "..#..\n",
    ".....\n",
    ".....\n",
    "# 5 5\n",
    "# ..#..\n",
    "# .###.\n",
    "# #####\n",
    "# .###.\n",
    "# ..#..\n",
    "# 5 6\n",
    "# ......\n",
    "# ......\n",
    "# .#....\n",
    "# ###...\n",
    "# .#....\n",
    "# 1 1\n",
    "# #\n",
    "# 5 6\n",
    "# ...#..\n",
    "# ..###.\n",
    "# .#####\n",
    "# ..###.\n",
    "# ...#..\n",
    "# 2 10\n",
    "# ..........\n",
    "# ...#......"
   ]
  },
  {
   "cell_type": "code",
   "execution_count": 36,
   "metadata": {},
   "outputs": [
    {
     "name": "stdout",
     "output_type": "stream",
     "text": [
      "2 4\n"
     ]
    }
   ],
   "source": [
    "q = int(input())\n",
    "for i in range(q):\n",
    "  R, C = list(map(int, input().split()))\n",
    "  grid = []\n",
    "  for r in range(R):\n",
    "    row = list(input())\n",
    "    grid.append(row)\n",
    "  mx = 0\n",
    "  for row in grid:\n",
    "    mx = max(mx, row.count('#'))\n",
    "  row_index, col_index = 0, 0\n",
    "  l, r = -1, -1\n",
    "  for i, row in enumerate(grid):\n",
    "    if row.count('#') == mx:\n",
    "      row_index = i\n",
    "      for j, c in enumerate(row):\n",
    "        if l == -1 and row[j] == '#':\n",
    "          l = j\n",
    "        if l != -1 and row[j] == '#':\n",
    "          r = j \n",
    "      col_index = (r + l) // 2 if r != l else l\n",
    "  print(row_index + 1, col_index + 1)\n"
   ]
  },
  {
   "cell_type": "code",
   "execution_count": 37,
   "metadata": {},
   "outputs": [],
   "source": [
    "# 7\n",
    "# 3 3 3 8\n",
    "# 3 3 3 18\n",
    "# 5 1 1 1\n",
    "# 2 2 2 7\n",
    "# 3 4 2 12\n",
    "# 4 3 1 6\n",
    "# 1800 1800 1800 4913000000"
   ]
  },
  {
   "cell_type": "code",
   "execution_count": 44,
   "metadata": {},
   "outputs": [
    {
     "name": "stdout",
     "output_type": "stream",
     "text": [
      "4\n"
     ]
    }
   ],
   "source": [
    "q = int(input())\n",
    "for i in range(q):\n",
    "  x, y, z, k = list(map(int, input().split()))\n",
    "  res = 0\n",
    "  for i in range(1, x + 1):\n",
    "    for j in range(1, y + 1):\n",
    "      if k % (i * j) == 0 and k // (i * j) <= z:\n",
    "        K = k // (i * j)\n",
    "        res = max(res, (x - i + 1) * (y - j + 1) * (z - K + 1))\n",
    "  print(res)"
   ]
  },
  {
   "cell_type": "code",
   "execution_count": 45,
   "metadata": {},
   "outputs": [],
   "source": [
    "# 8\n",
    "# 3 2\n",
    "# 2 1\n",
    "# 2 1\n",
    "# 5 2\n",
    "# 2 1\n",
    "# 2 1\n",
    "# 50 3\n",
    "# 5 6 7\n",
    "# 5 6 7\n",
    "# 50 3\n",
    "# 2 2 2\n",
    "# 3 3 3\n",
    "# 90000 2\n",
    "# 200000 200000\n",
    "# 1 1\n",
    "# 100000 1\n",
    "# 1\n",
    "# 200000\n",
    "# 6 7\n",
    "# 3 2 3 2 3 1 2\n",
    "# 6 5 9 5 10 7 7\n",
    "# 21 6\n",
    "# 1 1 1 1 1 1\n",
    "# 5 5 8 10 7 6"
   ]
  },
  {
   "cell_type": "code",
   "execution_count": 51,
   "metadata": {},
   "outputs": [
    {
     "name": "stdout",
     "output_type": "stream",
     "text": [
      "1\n"
     ]
    }
   ],
   "source": [
    "from heapq import *\n",
    "q = int(input())\n",
    "for i in range(q):\n",
    "  h, n = list(map(int, input().split()))\n",
    "  attacks = list(map(int, input().split()))\n",
    "  cooldown = list(map(int, input().split()))\n",
    "  def check(threshold, h):\n",
    "    pq = []\n",
    "    min_heap = []\n",
    "    for a, c in zip(attacks, cooldown):\n",
    "      heappush(pq, (-a, c))\n",
    "    t = 1\n",
    "    while pq:\n",
    "      for _ in range(len(pq)):\n",
    "        x, cool = heappop(pq)\n",
    "        h -= -x\n",
    "        heappush(min_heap, (t + cool, x))\n",
    "        if h <= 0:\n",
    "          return t <= threshold\n",
    "      while min_heap[0][0] <= t + 1:\n",
    "        c, x = heappop(min_heap)\n",
    "        heappush(pq, (-x, c))\n",
    "      t += 1\n",
    "    return False \n",
    "  \n",
    "  l, r, res = 1, 2 ** 64, 1\n",
    "  while l <= r:\n",
    "    m = l + (r - l) // 2 \n",
    "    if check(m, h):\n",
    "      res = m \n",
    "      r = m - 1\n",
    "    else:\n",
    "      l = m + 1\n",
    "  print(res)"
   ]
  },
  {
   "cell_type": "code",
   "execution_count": null,
   "metadata": {},
   "outputs": [],
   "source": []
  }
 ],
 "metadata": {
  "kernelspec": {
   "display_name": "Python 3",
   "language": "python",
   "name": "python3"
  },
  "language_info": {
   "codemirror_mode": {
    "name": "ipython",
    "version": 3
   },
   "file_extension": ".py",
   "mimetype": "text/x-python",
   "name": "python",
   "nbconvert_exporter": "python",
   "pygments_lexer": "ipython3",
   "version": "3.9.1"
  }
 },
 "nbformat": 4,
 "nbformat_minor": 2
}
