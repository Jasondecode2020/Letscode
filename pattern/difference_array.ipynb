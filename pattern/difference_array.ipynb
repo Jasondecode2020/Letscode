{
 "cells": [
  {
   "cell_type": "markdown",
   "metadata": {},
   "source": [
    "### Difference array"
   ]
  },
  {
   "cell_type": "markdown",
   "metadata": {},
   "source": [
    "### 1d difference array\n",
    "\n",
    "* [2848. Points That Intersect With Cars](#2848-Points-That-Intersect-With-Cars) 1230\n",
    "* [1893. Check if All the Integers in a Range Are Covered](#1893-Check-if-All-the-Integers-in-a-Range-Are-Covered) 1307\n",
    "* [1854. Maximum Population Year](#1854-maximum-population-year) 1370\n",
    "* [2960. Count Tested Devices After Test Operations](#2960-count-tested-devices-after-test-operations) 1400\n",
    "* [1094. Car Pooling](#1094-car-pooling) 1441\n",
    "* [1109. Corporate Flight Bookings](#1109-Corporate-Flight-Bookings) 1570\n",
    "* [56. Merge Intervals](#56-merge-intervals) 1580\n",
    "* [57. Insert Interval](#57-insert-interval) 1600\n",
    "* [732. My Calendar III](#732-my-calendar-iii) 1700\n",
    "* [2406. Divide Intervals Into Minimum Number of Groups](#2406-Divide-Intervals-Into-Minimum-Number-of-Groups) 1731\n",
    "* [2381. Shifting Letters II](#2381-Shifting-Letters-II) 1793\n",
    "* [995. Minimum Number of K Consecutive Bit Flips](#995-minimum-number-of-k-consecutive-bit-flips) 1835\n",
    "* [1589. Maximum Sum Obtained of Any Permutation](#2406-Divide-Intervals-Into-Minimum-Number-of-Groups) 1871\n",
    "* [1943. Describe the Painting](#1943-describe-the-painting) 1969\n",
    "* [2251. Number of Flowers in Full Bloom](#2251-number-of-flowers-in-full-bloom) 2251\n",
    "* [2772. Apply Operations to Make All Array Elements Equal to Zero](#2772-apply-operations-to-make-all-array-elements-equal-to-zero) 2029\n",
    "* [798. Smallest Rotation with Highest Score](#798-smallest-rotation-with-highest-score) 2129\n",
    "* [2528. Maximize the Minimum Powered City](#2528-maximize-the-minimum-powered-city) 2236\n",
    "* [1674. Minimum Moves to Make Array Complementary](#1674-minimum-moves-to-make-array-complementary) 2333\n",
    "* [3017. Count the Number of Houses at a Certain Distance II]() 2709\n",
    "\n",
    "* [253. Meeting Rooms II](#253-meeting-rooms-ii)\n",
    "* [370. Range Addition](#370-Range-Addition)\n",
    "* [759. Employee Free Time](#759-employee-free-time)\n",
    "* [2021. Brightest Position on Street](#2021-brightest-position-on-street)\n",
    "* [2015. Average Height of Buildings in Each Segment](#2015-average-height-of-buildings-in-each-segment)\n",
    "* [2237. Count Positions on Street With Required Brightness](#2237-count-positions-on-street-with-required-brightness)\n",
    "* [3009. Maximum Number of Intersections on the Chart](#3009-maximum-number-of-intersections-on-the-chart) 2500\n",
    "\n",
    "### 2d difference array (3)\n",
    "\n",
    "* [2536. Increment Submatrices by One](#2536-increment-submatrices-by-one) 1583\n",
    "* [850. Rectangle Area II](#850-rectangle-area-ii) 2236\n",
    "* [2132. Stamping the Grid](#2132-stamping-the-grid) 2364"
   ]
  },
  {
   "cell_type": "markdown",
   "metadata": {},
   "source": [
    "#### 1094. Car Pooling"
   ]
  },
  {
   "cell_type": "code",
   "execution_count": 12,
   "metadata": {},
   "outputs": [
    {
     "data": {
      "text/plain": [
       "False"
      ]
     },
     "execution_count": 12,
     "metadata": {},
     "output_type": "execute_result"
    }
   ],
   "source": [
    "from itertools import accumulate\n",
    "class Solution:\n",
    "    def carPooling(self, trips, capacity) -> bool:\n",
    "        f = [0] * 1001\n",
    "        for c, s, e in trips:\n",
    "            f[s] += c\n",
    "            f[e] -= c \n",
    "        pre = list(accumulate(f))\n",
    "        return max(pre) <= capacity\n",
    "s = Solution()\n",
    "trips = [[2,1,5],[3,3,7]]\n",
    "capacity = 4\n",
    "s.carPooling(trips, capacity)"
   ]
  },
  {
   "cell_type": "markdown",
   "metadata": {},
   "source": [
    "#### 2848. Points That Intersect With Cars"
   ]
  },
  {
   "cell_type": "code",
   "execution_count": 13,
   "metadata": {},
   "outputs": [
    {
     "ename": "SyntaxError",
     "evalue": "invalid syntax (3691431424.py, line 1)",
     "output_type": "error",
     "traceback": [
      "\u001b[1;36m  Cell \u001b[1;32mIn[13], line 1\u001b[1;36m\u001b[0m\n\u001b[1;33m    class Solution {\u001b[0m\n\u001b[1;37m                   ^\u001b[0m\n\u001b[1;31mSyntaxError\u001b[0m\u001b[1;31m:\u001b[0m invalid syntax\n"
     ]
    }
   ],
   "source": []
  },
  {
   "cell_type": "code",
   "execution_count": 23,
   "metadata": {},
   "outputs": [],
   "source": [
    "res = (lambda x: x ** 2)(7)"
   ]
  },
  {
   "cell_type": "code",
   "execution_count": 29,
   "metadata": {},
   "outputs": [
    {
     "data": {
      "text/plain": [
       "['John', 'Rob']"
      ]
     },
     "execution_count": 29,
     "metadata": {},
     "output_type": "execute_result"
    }
   ],
   "source": [
    "names = ['john', 'rob']\n",
    "cap_names = list(map(str.capitalize, names))\n",
    "cap_names"
   ]
  },
  {
   "cell_type": "code",
   "execution_count": 18,
   "metadata": {},
   "outputs": [],
   "source": [
    "people = dict(john=32)"
   ]
  },
  {
   "cell_type": "code",
   "execution_count": 19,
   "metadata": {},
   "outputs": [],
   "source": [
    "people.update({'john': 30})"
   ]
  },
  {
   "cell_type": "code",
   "execution_count": 20,
   "metadata": {},
   "outputs": [
    {
     "data": {
      "text/plain": [
       "{'john': 30}"
      ]
     },
     "execution_count": 20,
     "metadata": {},
     "output_type": "execute_result"
    }
   ],
   "source": [
    "people"
   ]
  },
  {
   "cell_type": "code",
   "execution_count": 33,
   "metadata": {},
   "outputs": [
    {
     "name": "stdout",
     "output_type": "stream",
     "text": [
      "Hello \\n World\n"
     ]
    }
   ],
   "source": [
    "print(r'Hello \\n World')"
   ]
  },
  {
   "cell_type": "code",
   "execution_count": 38,
   "metadata": {},
   "outputs": [
    {
     "name": "stdout",
     "output_type": "stream",
     "text": [
      "Match found\n"
     ]
    }
   ],
   "source": [
    "import re \n",
    "string = 'bca'\n",
    "pattern = 'a'\n",
    "if re.search(pattern, string):\n",
    "    print('Match found')"
   ]
  },
  {
   "cell_type": "code",
   "execution_count": null,
   "metadata": {},
   "outputs": [],
   "source": []
  }
 ],
 "metadata": {
  "kernelspec": {
   "display_name": "Python 3",
   "language": "python",
   "name": "python3"
  },
  "language_info": {
   "codemirror_mode": {
    "name": "ipython",
    "version": 3
   },
   "file_extension": ".py",
   "mimetype": "text/x-python",
   "name": "python",
   "nbconvert_exporter": "python",
   "pygments_lexer": "ipython3",
   "version": "3.9.1"
  }
 },
 "nbformat": 4,
 "nbformat_minor": 2
}
