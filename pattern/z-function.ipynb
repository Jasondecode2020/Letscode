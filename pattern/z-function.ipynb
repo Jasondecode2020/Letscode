{
 "cells": [
  {
   "cell_type": "markdown",
   "metadata": {},
   "source": [
    "### Z-function"
   ]
  },
  {
   "cell_type": "markdown",
   "metadata": {},
   "source": [
    "  \n",
    "$z[i]$  is the length of the longest string that is, at the same time, a prefix of  \n",
    "$s$  and a prefix of the suffix of  \n",
    "$s$  starting at  \n",
    "$i$ ."
   ]
  },
  {
   "cell_type": "markdown",
   "metadata": {},
   "source": [
    "Note. In this article, to avoid ambiguity, we assume  \n",
    "$0$ -based indexes; that is: the first character of  \n",
    "$s$  has index  \n",
    "$0$  and the last one has index  \n",
    "$n-1$ .\n",
    "\n",
    "The first element of Z-function,  \n",
    "$z[0]$ , is generally not well defined. In this article we will assume it is zero (although it doesn't change anything in the algorithm implementation)."
   ]
  },
  {
   "cell_type": "markdown",
   "metadata": {},
   "source": [
    "#### Examples\n",
    "For example, here are the values of the Z-function computed for different strings:\n",
    "\n",
    "\"aaaaa\" -  \n",
    "$[0, 4, 3, 2, 1]$ \n",
    "\"aaabaab\" -  \n",
    "$[0, 2, 1, 0, 2, 1, 0]$ \n",
    "\"abacaba\" -  \n",
    "$[0, 0, 1, 0, 3, 0, 1]$ "
   ]
  },
  {
   "cell_type": "markdown",
   "metadata": {},
   "source": [
    "#### Trivial algorithm\n",
    "Formal definition can be represented in the following elementary  \n",
    "$O(n^2)$  implementation."
   ]
  },
  {
   "cell_type": "code",
   "execution_count": 18,
   "metadata": {},
   "outputs": [
    {
     "name": "stdout",
     "output_type": "stream",
     "text": [
      "while 1 1\n",
      "while 2 1\n",
      "while 3 1\n",
      "while 1 2\n",
      "while 2 2\n",
      "while 1 3\n",
      "while 1 5\n",
      "while 2 5\n",
      "while 1 6\n"
     ]
    },
    {
     "data": {
      "text/plain": [
       "[0, 3, 2, 1, 0, 2, 1]"
      ]
     },
     "execution_count": 18,
     "metadata": {},
     "output_type": "execute_result"
    }
   ],
   "source": [
    "def z_function_trivial(s):\n",
    "    n = len(s)\n",
    "    z = [0] * n\n",
    "    for i in range(1, n):\n",
    "        while i + z[i] < n and s[z[i]] == s[i + z[i]]:\n",
    "            z[i] += 1\n",
    "            print('while', z[i], i)\n",
    "    return z\n",
    "s = 'abcababc'\n",
    "s2 = \"aaaabaa\"\n",
    "z_function_trivial(s2)"
   ]
  },
  {
   "cell_type": "markdown",
   "metadata": {},
   "source": [
    "We just iterate through every position  \n",
    "$i$  and update  \n",
    "$z[i]$  for each one of them, starting from  \n",
    "$z[i] = 0$  and incrementing it as long as we don't find a mismatch (and as long as we don't reach the end of the line).\n",
    "\n",
    "Of course, this is not an efficient implementation. We will now show the construction of an efficient implementation."
   ]
  },
  {
   "cell_type": "markdown",
   "metadata": {},
   "source": [
    "#### Efficient algorithm"
   ]
  },
  {
   "cell_type": "markdown",
   "metadata": {},
   "source": [
    "To obtain an efficient algorithm we will compute the values of  \n",
    "$z[i]$  in turn from  \n",
    "$i = 1$  to  \n",
    "$n - 1$  but at the same time, when computing a new value, we'll try to make the best use possible of the previously computed values.\n",
    "\n",
    "For the sake of brevity, let's call <b>segment matches</b> those substrings that coincide with a prefix of  \n",
    "$s$ . For example, the value of the desired Z-function  \n",
    "$z[i]$  is the length of the segment match starting at position  \n",
    "$i$  (and that ends at position  \n",
    "$i + z[i] - 1$ ).\n",
    "\n",
    "To do this, we will keep the  \n",
    "$[l, r)$  indices of the rightmost segment match. That is, among all detected segments we will keep the one that ends rightmost. In a way, the index  \n",
    "$r$  can be seen as the \"boundary\" to which our string  \n",
    "$s$  has been scanned by the algorithm; everything beyond that point is not yet known.\n",
    "\n",
    "Then, if the current index (for which we have to compute the next value of the Z-function) is  \n",
    "$i$ , we have one of two options:\n",
    "\n",
    " \n",
    "$i \\geq r$  -- the current position is outside of what we have already processed.\n",
    "\n",
    "We will then compute  \n",
    "$z[i]$  with the trivial algorithm (that is, just comparing values one by one). Note that in the end, if  \n",
    "$z[i] > 0$ , we'll have to update the indices of the rightmost segment, because it's guaranteed that the new  \n",
    "$r = i + z[i]$  is better than the previous  \n",
    "$r$ .\n",
    "\n",
    " \n",
    "$i < r$  -- the current position is inside the current segment match  \n",
    "$[l, r)$ .\n",
    "\n",
    "Then we can use the already calculated Z-values to \"initialize\" the value of  \n",
    "$z[i]$  to something (it sure is better than \"starting from zero\"), maybe even some big number.\n",
    "\n",
    "For this, we observe that the substrings  \n",
    "$s[l \\dots r)$  and  \n",
    "$s[0 \\dots r-l)$  match. This means that as an initial approximation for  \n",
    "$z[i]$  we can take the value already computed for the corresponding segment  \n",
    "$s[0 \\dots r-l)$ , and that is  \n",
    "$z[i-l]$ .\n",
    "\n",
    "However, the value  \n",
    "$z[i-l]$  could be too large: when applied to position  \n",
    "$i$  it could exceed the index  \n",
    "$r$ . This is not allowed because we know nothing about the characters to the right of  \n",
    "$r$ : they may differ from those required.\n",
    "\n",
    "Here is an example of a similar scenario:\n",
    "\n",
    " \n",
    "$$ s = \"aaaabaa\" $$ \n",
    "When we get to the last position ( \n",
    "$i = 6$ ), the current match segment will be  \n",
    "$[5, 7)$ . Position  \n",
    "$6$  will then match position  \n",
    "$6 - 5 = 1$ , for which the value of the Z-function is  \n",
    "$z[1] = 3$ . Obviously, we cannot initialize  \n",
    "$z[6]$  to  \n",
    "$3$ , it would be completely incorrect. The maximum value we could initialize it to is  \n",
    "$1$  -- because it's the largest value that doesn't bring us beyond the index  \n",
    "$r$  of the match segment  \n",
    "$[l, r)$ .\n",
    "\n",
    "Thus, as an initial approximation for  \n",
    "$z[i]$  we can safely take:\n",
    "\n",
    " \n",
    "$$ z_0[i] = \\min(r - i,\\; z[i-l]) $$ \n",
    "After having  \n",
    "$z[i]$  initialized to  \n",
    "$z_0[i]$ , we try to increment  \n",
    "$z[i]$  by running the trivial algorithm -- because in general, after the border  \n",
    "$r$ , we cannot know if the segment will continue to match or not.\n",
    "\n",
    "Thus, the whole algorithm is split in two cases, which differ only in the initial value of  \n",
    "$z[i]$ : in the first case it's assumed to be zero, in the second case it is determined by the previously computed values (using the above formula). After that, both branches of this algorithm can be reduced to the implementation of the trivial algorithm, which starts immediately after we specify the initial value.\n",
    "\n",
    "The algorithm turns out to be very simple. Despite the fact that on each iteration the trivial algorithm is run, we have made significant progress, having an algorithm that runs in linear time. Later on we will prove that the running time is linear."
   ]
  },
  {
   "cell_type": "code",
   "execution_count": 16,
   "metadata": {},
   "outputs": [
    {
     "name": "stdout",
     "output_type": "stream",
     "text": [
      "while 1\n",
      "while 2\n",
      "while 3\n",
      "l, r 1 4\n",
      "i < r 2\n",
      "i < r 1\n",
      "while 1\n",
      "while 2\n",
      "l, r 5 7\n",
      "i < r 1\n"
     ]
    },
    {
     "data": {
      "text/plain": [
       "[0, 3, 2, 1, 0, 2, 1]"
      ]
     },
     "execution_count": 16,
     "metadata": {},
     "output_type": "execute_result"
    }
   ],
   "source": [
    "def z_func(s):\n",
    "    n = len(s)\n",
    "    z, l, r = [0] * n, 0, 0\n",
    "    for i in range(1, n):\n",
    "        if i < r:\n",
    "            z[i] = min(r - i, z[i - l])\n",
    "            print('i < r', z[i])\n",
    "        while i + z[i] < n and s[z[i]] == s[i + z[i]]:\n",
    "            z[i] += 1\n",
    "            print('while', z[i])\n",
    "        if i + z[i] > r:\n",
    "            l, r = i, i + z[i]\n",
    "            print('l, r', l, r)\n",
    "    return z\n",
    "s = 'abcababc'\n",
    "s2 = \"aaaabaa\"\n",
    "z_func(s2)"
   ]
  },
  {
   "cell_type": "markdown",
   "metadata": {},
   "source": [
    "#### Comments on this implementation\n",
    "The whole solution is given as a function which returns an array of length  \n",
    "$n$  -- the Z-function of  \n",
    "$s$ .\n",
    "\n",
    "Array  \n",
    "$z$  is initially filled with zeros. The current rightmost match segment is assumed to be  \n",
    "$[0; 0)$  (that is, a deliberately small segment which doesn't contain any  \n",
    "$i$ ).\n",
    "\n",
    "Inside the loop for  \n",
    "$i = 1 \\dots n - 1$  we first determine the initial value  \n",
    "$z[i]$  -- it will either remain zero or be computed using the above formula.\n",
    "\n",
    "Thereafter, the trivial algorithm attempts to increase the value of  \n",
    "$z[i]$  as much as possible.\n",
    "\n",
    "In the end, if it's required (that is, if  \n",
    "$i + z[i] > r$ ), we update the rightmost match segment  \n",
    "$[l, r)$ ."
   ]
  }
 ],
 "metadata": {
  "kernelspec": {
   "display_name": "Python 3",
   "language": "python",
   "name": "python3"
  },
  "language_info": {
   "codemirror_mode": {
    "name": "ipython",
    "version": 3
   },
   "file_extension": ".py",
   "mimetype": "text/x-python",
   "name": "python",
   "nbconvert_exporter": "python",
   "pygments_lexer": "ipython3",
   "version": "3.9.1"
  }
 },
 "nbformat": 4,
 "nbformat_minor": 2
}
