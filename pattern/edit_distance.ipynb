{
 "cells": [
  {
   "cell_type": "code",
   "execution_count": null,
   "metadata": {},
   "outputs": [],
   "source": [
    "from math import inf\n",
    "from functools import lru_cache\n",
    "\n",
    "@lru_cache\n",
    "def f(i, j, s1, s2):\n",
    "    if i == len(s1):\n",
    "        return -2 * len(s2[j:]) # use insertion/deletion\n",
    "    if j == len(s2):\n",
    "        return -2 * len(s1[i:]) # use insertion/deletion\n",
    "    res = -inf\n",
    "    if s1[i] == s2[j]:\n",
    "        res = max(res, f(i + 1, j + 1, s1, s2) + 1) # same, score + 1\n",
    "    else:\n",
    "        # can be one of the three cases, dismatch get score -1, or delete/insert one of the string get score -2\n",
    "        res = max(res, f(i + 1, j + 1, s1, s2) - 1, f(i + 1, j, s1, s2) - 2, f(i, j + 1, s1, s2) - 2)\n",
    "    return res \n",
    "\n",
    "# Test cases\n",
    "def test_case_1():\n",
    "    s1 = 'CAAGACG'\n",
    "    s2 = 'AAGAACG'\n",
    "    assert f(0, 0, s1, s2) == 2\n",
    "\n",
    "def test_case_2():\n",
    "    s1 = 'AACTGA'\n",
    "    s2 = 'ACTGT'\n",
    "    assert f(0, 0, s1, s2) == 1\n",
    "\n",
    "def test_case_3():\n",
    "    s1 = 'AA'\n",
    "    s2 = 'A'\n",
    "    assert f(0, 0, s1, s2) == -1\n",
    "\n",
    "def test_case_4():\n",
    "    s1 = 'AA'\n",
    "    s2 = 'C'\n",
    "    assert f(0, 0, s1, s2) == -3\n",
    "\n",
    "def test_case_5():\n",
    "    s1 = 'AAAC'\n",
    "    s2 = ''\n",
    "    assert f(0, 0, s1, s2) == -8\n",
    "\n",
    "if __name__ == '__main__':\n",
    "    test_case_1()\n",
    "    test_case_2()\n",
    "    test_case_3()\n",
    "    test_case_4()\n",
    "    test_case_5()"
   ]
  },
  {
   "cell_type": "code",
   "execution_count": null,
   "metadata": {},
   "outputs": [],
   "source": []
  }
 ],
 "metadata": {
  "kernelspec": {
   "display_name": "Python 3",
   "language": "python",
   "name": "python3"
  },
  "language_info": {
   "codemirror_mode": {
    "name": "ipython",
    "version": 3
   },
   "file_extension": ".py",
   "mimetype": "text/x-python",
   "name": "python",
   "nbconvert_exporter": "python",
   "pygments_lexer": "ipython3",
   "version": "3.9.1"
  }
 },
 "nbformat": 4,
 "nbformat_minor": 2
}
